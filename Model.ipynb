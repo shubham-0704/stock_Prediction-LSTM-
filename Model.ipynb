{
 "cells": [
  {
   "cell_type": "code",
   "execution_count": 36,
   "metadata": {},
   "outputs": [],
   "source": [
    "import datetime as dt\n",
    "import pandas as pd\n",
    "import numpy as np\n",
    "import pandas_datareader as dr\n",
    "import matplotlib.pyplot as plt\n",
    "import fix_yahoo_finance as yf\n",
    "\n",
    "yf.pdr_override()  ## for fixing pandas data reader error"
   ]
  },
  {
   "cell_type": "code",
   "execution_count": 44,
   "metadata": {},
   "outputs": [
    {
     "name": "stdout",
     "output_type": "stream",
     "text": [
      "[*********************100%***********************]  1 of 1 downloaded\n"
     ]
    },
    {
     "data": {
      "text/html": [
       "<div>\n",
       "<style scoped>\n",
       "    .dataframe tbody tr th:only-of-type {\n",
       "        vertical-align: middle;\n",
       "    }\n",
       "\n",
       "    .dataframe tbody tr th {\n",
       "        vertical-align: top;\n",
       "    }\n",
       "\n",
       "    .dataframe thead th {\n",
       "        text-align: right;\n",
       "    }\n",
       "</style>\n",
       "<table border=\"1\" class=\"dataframe\">\n",
       "  <thead>\n",
       "    <tr style=\"text-align: right;\">\n",
       "      <th></th>\n",
       "      <th>Open</th>\n",
       "      <th>High</th>\n",
       "      <th>Low</th>\n",
       "      <th>Close</th>\n",
       "      <th>Adj Close</th>\n",
       "      <th>Volume</th>\n",
       "    </tr>\n",
       "    <tr>\n",
       "      <th>Date</th>\n",
       "      <th></th>\n",
       "      <th></th>\n",
       "      <th></th>\n",
       "      <th></th>\n",
       "      <th></th>\n",
       "      <th></th>\n",
       "    </tr>\n",
       "  </thead>\n",
       "  <tbody>\n",
       "    <tr>\n",
       "      <th>2016-01-15</th>\n",
       "      <td>1144.43</td>\n",
       "      <td>1145.85</td>\n",
       "      <td>1127.50</td>\n",
       "      <td>1130.55</td>\n",
       "      <td>1012.47</td>\n",
       "      <td>3269408</td>\n",
       "    </tr>\n",
       "    <tr>\n",
       "      <th>2016-01-18</th>\n",
       "      <td>1131.00</td>\n",
       "      <td>1145.95</td>\n",
       "      <td>1130.00</td>\n",
       "      <td>1138.82</td>\n",
       "      <td>1019.88</td>\n",
       "      <td>2213922</td>\n",
       "    </tr>\n",
       "    <tr>\n",
       "      <th>2016-01-19</th>\n",
       "      <td>1138.50</td>\n",
       "      <td>1150.00</td>\n",
       "      <td>1134.15</td>\n",
       "      <td>1139.65</td>\n",
       "      <td>1020.62</td>\n",
       "      <td>967910</td>\n",
       "    </tr>\n",
       "    <tr>\n",
       "      <th>2016-01-20</th>\n",
       "      <td>1136.90</td>\n",
       "      <td>1142.50</td>\n",
       "      <td>1121.50</td>\n",
       "      <td>1140.05</td>\n",
       "      <td>1020.98</td>\n",
       "      <td>1615954</td>\n",
       "    </tr>\n",
       "    <tr>\n",
       "      <th>2016-01-21</th>\n",
       "      <td>1142.50</td>\n",
       "      <td>1144.95</td>\n",
       "      <td>1122.88</td>\n",
       "      <td>1127.25</td>\n",
       "      <td>1011.96</td>\n",
       "      <td>2675536</td>\n",
       "    </tr>\n",
       "  </tbody>\n",
       "</table>\n",
       "</div>"
      ],
      "text/plain": [
       "               Open     High      Low    Close  Adj Close   Volume\n",
       "Date                                                              \n",
       "2016-01-15  1144.43  1145.85  1127.50  1130.55    1012.47  3269408\n",
       "2016-01-18  1131.00  1145.95  1130.00  1138.82    1019.88  2213922\n",
       "2016-01-19  1138.50  1150.00  1134.15  1139.65    1020.62   967910\n",
       "2016-01-20  1136.90  1142.50  1121.50  1140.05    1020.98  1615954\n",
       "2016-01-21  1142.50  1144.95  1122.88  1127.25    1011.96  2675536"
      ]
     },
     "execution_count": 44,
     "metadata": {},
     "output_type": "execute_result"
    }
   ],
   "source": [
    "stock_name =[\"TCS\",\"SBIN\"]\n",
    "stock_name =[ x+\".NS\" for x in stock_name]\n",
    "\n",
    "start =dt.date.today()-dt.timedelta(days=2000)\n",
    "\n",
    "df1= dr.data.get_data_yahoo(stock_name[0],start,end =dt.date.today())\n",
    "df1.head()"
   ]
  },
  {
   "cell_type": "code",
   "execution_count": 45,
   "metadata": {},
   "outputs": [
    {
     "data": {
      "text/plain": [
       "Open         False\n",
       "High         False\n",
       "Low          False\n",
       "Close        False\n",
       "Adj Close    False\n",
       "Volume       False\n",
       "dtype: bool"
      ]
     },
     "execution_count": 45,
     "metadata": {},
     "output_type": "execute_result"
    }
   ],
   "source": [
    "df1.isna().any()"
   ]
  },
  {
   "cell_type": "code",
   "execution_count": 46,
   "metadata": {},
   "outputs": [
    {
     "name": "stdout",
     "output_type": "stream",
     "text": [
      "<class 'pandas.core.frame.DataFrame'>\n",
      "DatetimeIndex: 1348 entries, 2016-01-15 to 2021-07-06\n",
      "Data columns (total 6 columns):\n",
      " #   Column     Non-Null Count  Dtype  \n",
      "---  ------     --------------  -----  \n",
      " 0   Open       1348 non-null   float64\n",
      " 1   High       1348 non-null   float64\n",
      " 2   Low        1348 non-null   float64\n",
      " 3   Close      1348 non-null   float64\n",
      " 4   Adj Close  1348 non-null   float64\n",
      " 5   Volume     1348 non-null   int64  \n",
      "dtypes: float64(5), int64(1)\n",
      "memory usage: 73.7 KB\n"
     ]
    }
   ],
   "source": [
    "df1.info()"
   ]
  },
  {
   "cell_type": "code",
   "execution_count": 47,
   "metadata": {},
   "outputs": [
    {
     "data": {
      "text/plain": [
       "<matplotlib.axes._subplots.AxesSubplot at 0x20ef4e5d7c8>"
      ]
     },
     "execution_count": 47,
     "metadata": {},
     "output_type": "execute_result"
    },
    {
     "data": {
      "image/png": "[encoded data removed]",
      "text/plain": [
       "<Figure size 1152x432 with 1 Axes>"
      ]
     },
     "metadata": {
      "needs_background": "light"
     },
     "output_type": "display_data"
    }
   ],
   "source": [
    "df1[\"Open\"].plot(figsize=(16,6))"
   ]
  },
  {
   "cell_type": "code",
   "execution_count": 48,
   "metadata": {},
   "outputs": [
    {
     "data": {
      "text/plain": [
       "(1348, 6)"
      ]
     },
     "execution_count": 48,
     "metadata": {},
     "output_type": "execute_result"
    }
   ],
   "source": [
    "df1.shape"
   ]
  },
  {
   "cell_type": "code",
   "execution_count": 55,
   "metadata": {},
   "outputs": [
    {
     "data": {
      "text/plain": [
       "array([[1130.55],\n",
       "       [1138.82],\n",
       "       [1139.65],\n",
       "       ...,\n",
       "       [3325.45],\n",
       "       [3321.  ],\n",
       "       [3262.3 ]])"
      ]
     },
     "execution_count": 55,
     "metadata": {},
     "output_type": "execute_result"
    }
   ],
   "source": [
    "x =df1[\"Close\"]\n",
    "x=np.array(x).reshape(-1,1)"
   ]
  },
  {
   "cell_type": "code",
   "execution_count": 57,
   "metadata": {},
   "outputs": [
    {
     "data": {
      "text/plain": [
       "1348"
      ]
     },
     "execution_count": 57,
     "metadata": {},
     "output_type": "execute_result"
    }
   ],
   "source": [
    "from sklearn.preprocessing import MinMaxScaler\n",
    "scaler =MinMaxScaler(feature_range=(0,1))\n",
    "x= scaler.fit_transform(x)"
   ]
  },
  {
   "cell_type": "code",
   "execution_count": 65,
   "metadata": {},
   "outputs": [
    {
     "name": "stdout",
     "output_type": "stream",
     "text": [
      "337\n"
     ]
    }
   ],
   "source": [
    "## spliting the data in train test\n",
    "\n",
    "size = int(len(x)*.75)\n",
    "train_x= x[0:size]\n",
    "test_x=x[size:]"
   ]
  },
  {
   "cell_type": "code",
   "execution_count": 79,
   "metadata": {},
   "outputs": [],
   "source": [
    "def create_dataset(data,time_step=3):\n",
    "    x_data,y_data=[],[]\n",
    "    \n",
    "    for i in range(len(data)-time_step-1):\n",
    "        a=data[i:i+time_step,0]\n",
    "        x_data.append(a)\n",
    "        y_data.append(data[i+time_step,0])\n",
    "        \n",
    "    return np.array(x_data),np.array(y_data)"
   ]
  },
  {
   "cell_type": "code",
   "execution_count": 80,
   "metadata": {},
   "outputs": [],
   "source": [
    "time_step=100\n",
    "\n",
    "x_train,y_train = create_dataset(train_x,time_step)\n",
    "x_test,y_test =create_dataset(test_x,time_step)"
   ]
  },
  {
   "cell_type": "code",
   "execution_count": 84,
   "metadata": {},
   "outputs": [
    {
     "name": "stdout",
     "output_type": "stream",
     "text": [
      "(910, 100)\n",
      "(910,)\n"
     ]
    }
   ],
   "source": [
    "print(x_train.shape)\n",
    "print(y_train.shape)"
   ]
  },
  {
   "cell_type": "code",
   "execution_count": null,
   "metadata": {},
   "outputs": [],
   "source": [
    "# reshaping input for LSTM input type [samples,time_steps,fetures]\n",
    "x_train=x_train.reshape(x)"
   ]
  }
 ],
 "metadata": {
  "kernelspec": {
   "display_name": "Python 3",
   "language": "python",
   "name": "python3"
  },
  "language_info": {
   "codemirror_mode": {
    "name": "ipython",
    "version": 3
   },
   "file_extension": ".py",
   "mimetype": "text/x-python",
   "name": "python",
   "nbconvert_exporter": "python",
   "pygments_lexer": "ipython3",
   "version": "3.7.6"
  }
 },
 "nbformat": 4,
 "nbformat_minor": 4
}
